{
 "cells": [
  {
   "cell_type": "code",
   "execution_count": 189,
   "metadata": {},
   "outputs": [],
   "source": [
    "import pickle\n",
    "import networkx\n",
    "import random\n",
    "import pandas as pd\n",
    "import networkx as nx\n",
    "import folium\n",
    "from folium.plugins import HeatMap\n",
    "\n",
    "import python.display as dp\n",
    "import python.metric as metric\n",
    "project_folder = \"monresovelo\""
   ]
  },
  {
   "cell_type": "code",
   "execution_count": 190,
   "metadata": {},
   "outputs": [],
   "source": [
    "with open(\"files/\"+project_folder+\"/city_graphs/city.ox\",'rb') as infile:\n",
    "    G = pickle.load(infile)"
   ]
  },
  {
   "cell_type": "code",
   "execution_count": 182,
   "metadata": {},
   "outputs": [],
   "source": [
    "for e in G.edges():\n",
    "    G[e[0]][e[1]][0]['w'] = random.randint(1, 1000)\n",
    "    G[e[0]][e[1]][0]['w_1'] = 1\n",
    "\n",
    "node_list = []\n",
    "for i in G.nodes:\n",
    "    node_list.append(i)\n",
    "\n",
    "list_ob = []\n",
    "i=0\n",
    "error=0\n",
    "while (i<10):\n",
    "    d_node = random.choice(node_list)\n",
    "    f_node = d_node\n",
    "    while(f_node == d_node):\n",
    "        f_node = random.choice(node_list)\n",
    "    try:\n",
    "        ob = nx.shortest_path(G, source=d_node, target=f_node, weight=\"w\")   \n",
    "        list_ob.append(ob)\n",
    "        i+=1\n",
    "    except nx.NetworkXNoPath:\n",
    "        print(\"No path...\")\n",
    "    "
   ]
  },
  {
   "cell_type": "code",
   "execution_count": 183,
   "metadata": {},
   "outputs": [
    {
     "name": "stdout",
     "output_type": "stream",
     "text": [
      "0.5333333333333333\n"
     ]
    }
   ],
   "source": [
    "tot_ov = 0\n",
    "for ob in list_ob:\n",
    "    sp = nx.shortest_path(G, source=ob[0], target=ob[-1], weight=\"w_1\")\n",
    "    ov = metric.get_overlap(sp, ob, G, weight=\"w_1\")\n",
    "    tot_ov += ov\n",
    "print(tot_ov/len(list_ob))"
   ]
  },
  {
   "cell_type": "code",
   "execution_count": 197,
   "metadata": {},
   "outputs": [],
   "source": [
    "for e in G.edges():\n",
    "    G[e[0]][e[1]][0]['w'] = 1\n",
    "with open(\"files/\"+project_folder+\"/data_processed/observations_matched.tab\",'wb') as outfile:\n",
    "    pickle.dump(list_ob, outfile)\n",
    "    \n",
    "with open(\"files/\"+project_folder+\"/city_graphs/city.ox\",'wb') as outfile:\n",
    "    pickle.dump(G, outfile)"
   ]
  },
  {
   "cell_type": "code",
   "execution_count": 198,
   "metadata": {},
   "outputs": [
    {
     "name": "stdout",
     "output_type": "stream",
     "text": [
      "0.5333333333333333\n"
     ]
    }
   ],
   "source": [
    "with open(\"files/\"+project_folder+\"/city_graphs/city.ox\",'rb') as infile:\n",
    "    G = pickle.load(infile)\n",
    "    \n",
    "with open(\"files/\"+project_folder+\"/data_processed/observations_matched.tab\",'rb') as infile:\n",
    "    observations = pickle.load(infile)\n",
    "    \n",
    "overlap = 0\n",
    "for ob in observations:\n",
    "    sp = nx.shortest_path(G, source=ob[0], target=ob[-1], weight=\"w\")\n",
    "    overlap += metric.get_overlap(sp, ob, G, weight=\"w\")\n",
    "print(overlap/len(observations))"
   ]
  },
  {
   "cell_type": "code",
   "execution_count": null,
   "metadata": {},
   "outputs": [],
   "source": []
  }
 ],
 "metadata": {
  "kernelspec": {
   "display_name": "Python 3",
   "language": "python",
   "name": "python3"
  },
  "language_info": {
   "codemirror_mode": {
    "name": "ipython",
    "version": 3
   },
   "file_extension": ".py",
   "mimetype": "text/x-python",
   "name": "python",
   "nbconvert_exporter": "python",
   "pygments_lexer": "ipython3",
   "version": "3.8.10"
  }
 },
 "nbformat": 4,
 "nbformat_minor": 2
}
