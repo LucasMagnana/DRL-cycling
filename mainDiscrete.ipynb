{
 "cells": [
  {
   "cell_type": "code",
   "execution_count": 35,
   "metadata": {},
   "outputs": [],
   "source": [
    "import pickle\n",
    "import networkx\n",
    "import random\n",
    "import networkx as nx\n",
    "\n",
    "project_folder = \"monresovelo\""
   ]
  },
  {
   "cell_type": "code",
   "execution_count": 36,
   "metadata": {},
   "outputs": [],
   "source": [
    "G = nx.complete_graph(10)"
   ]
  },
  {
   "cell_type": "code",
   "execution_count": 37,
   "metadata": {},
   "outputs": [
    {
     "name": "stdout",
     "output_type": "stream",
     "text": [
      "[[(3, 0), (0, 2), (2, 4), (4, 5), (5, 6), (6, 7), (7, 8), (8, 9), (9, 1)], [(5, 0), (0, 1), (1, 2), (2, 3), (3, 4), (4, 6), (6, 7), (7, 8), (8, 9)], [(2, 0), (0, 1), (1, 3), (3, 4), (4, 5), (5, 6), (6, 8), (8, 9), (9, 7)], [(8, 0), (0, 1), (1, 2), (2, 3), (3, 5), (5, 6), (6, 7), (7, 9), (9, 4)], [(6, 0), (0, 1), (1, 2), (2, 3), (3, 5), (5, 7), (7, 8), (8, 9), (9, 4)], [(7, 0), (0, 1), (1, 2), (2, 3), (3, 4), (4, 5), (5, 8), (8, 9), (9, 6)], [(3, 0), (0, 1), (1, 2), (2, 4), (4, 6), (6, 7), (7, 8), (8, 9), (9, 5)], [(7, 0), (0, 1), (1, 2), (2, 4), (4, 5), (5, 6), (6, 8), (8, 9), (9, 3)], [(3, 0), (0, 1), (1, 2), (2, 5), (5, 6), (6, 7), (7, 8), (8, 9), (9, 4)], [(4, 0), (0, 1), (1, 2), (2, 3), (3, 5), (5, 7), (7, 8), (8, 9), (9, 6)]]\n"
     ]
    }
   ],
   "source": [
    "i=0\n",
    "list_ob = []\n",
    "while (i<10):\n",
    "    d_node = random.choice(list(G.nodes))\n",
    "    f_node = d_node\n",
    "    while(f_node == d_node):\n",
    "        f_node = random.choice(list(G.nodes))\n",
    "    ob = max(nx.all_simple_edge_paths(G, d_node, f_node), key=lambda x: len(x))\n",
    "    if(ob not in list_ob):\n",
    "        list_ob.append(ob)\n",
    "        i+=1\n",
    "print(list_ob)"
   ]
  },
  {
   "cell_type": "code",
   "execution_count": 38,
   "metadata": {},
   "outputs": [],
   "source": [
    "with open(\"files/\"+project_folder+\"/data_processed/observations_matched.tab\",'wb') as outfile:\n",
    "    pickle.dump(list_ob, outfile)\n",
    "with open(\"files/\"+project_folder+\"/city_graphs/city.ox\",'wb') as outfile:\n",
    "    pickle.dump(G, outfile)"
   ]
  },
  {
   "cell_type": "code",
   "execution_count": null,
   "metadata": {},
   "outputs": [],
   "source": []
  }
 ],
 "metadata": {
  "kernelspec": {
   "display_name": "Python 3",
   "language": "python",
   "name": "python3"
  },
  "language_info": {
   "codemirror_mode": {
    "name": "ipython",
    "version": 3
   },
   "file_extension": ".py",
   "mimetype": "text/x-python",
   "name": "python",
   "nbconvert_exporter": "python",
   "pygments_lexer": "ipython3",
   "version": "3.8.10"
  }
 },
 "nbformat": 4,
 "nbformat_minor": 2
}
