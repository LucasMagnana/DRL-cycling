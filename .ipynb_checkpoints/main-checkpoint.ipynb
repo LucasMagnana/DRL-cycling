{
 "cells": [
  {
   "cell_type": "code",
   "execution_count": 86,
   "metadata": {},
   "outputs": [],
   "source": [
    "import pickle\n",
    "import networkx\n",
    "import random\n",
    "import pandas as pd\n",
    "import networkx as nx\n",
    "\n",
    "import python.display as dp\n",
    "import python.voxels as voxels\n",
    "project_folder = \"monresovelo\""
   ]
  },
  {
   "cell_type": "code",
   "execution_count": 2,
   "metadata": {},
   "outputs": [],
   "source": [
    "with open(\"files/\"+project_folder+\"/city_graphs/city.ox\",'rb') as infile:\n",
    "    G = pickle.load(infile)"
   ]
  },
  {
   "cell_type": "code",
   "execution_count": 72,
   "metadata": {},
   "outputs": [],
   "source": [
    "for v in G:\n",
    "    for v_n in G[v]:\n",
    "         G[v][v_n][0]['w']=1"
   ]
  },
  {
   "cell_type": "code",
   "execution_count": 27,
   "metadata": {},
   "outputs": [],
   "source": [
    "node_list = []\n",
    "for i in G.nodes:\n",
    "    node_list.append(i)"
   ]
  },
  {
   "cell_type": "code",
   "execution_count": 226,
   "metadata": {},
   "outputs": [
    {
     "name": "stdout",
     "output_type": "stream",
     "text": [
      "No path...\n",
      "No path...\n"
     ]
    }
   ],
   "source": [
    "list_od = []\n",
    "list_sp_w = []\n",
    "list_sp_l = []\n",
    "i=0\n",
    "error=0\n",
    "while (i<100):\n",
    "    d_node = random.choice(node_list)\n",
    "    f_node = d_node\n",
    "    while(f_node == d_node):\n",
    "        f_node = random.choice(node_list)\n",
    "    try:\n",
    "        sp_w = nx.shortest_path(G, source=d_node, target=f_node, weight=\"w\")\n",
    "        sp_l = nx.shortest_path(G, source=d_node, target=f_node, weight=\"length\")\n",
    "        \n",
    "        route_coord = [[G.nodes[x][\"y\"], G.nodes[x][\"x\"]] for x in sp_w]\n",
    "        route_coord = [x + [i] for x in route_coord]\n",
    "        for c in route_coord:\n",
    "            list_sp_w.append(c)\n",
    "        \n",
    "        route_coord = [[G.nodes[x][\"y\"], G.nodes[x][\"x\"]] for x in sp_l]\n",
    "        route_coord = [x + [i] for x in route_coord]\n",
    "        for c in route_coord:\n",
    "            list_sp_l.append(c)\n",
    "              \n",
    "        list_od.append([d_node, f_node])\n",
    "        i+=1\n",
    "    except nx.NetworkXNoPath:\n",
    "        print(\"No path...\")\n",
    "df_sp_w=pd.DataFrame(list_sp_w, columns=[\"lat\", \"lon\", \"route_num\"])\n",
    "df_sp_l=pd.DataFrame(list_sp_l, columns=[\"lat\", \"lon\", \"route_num\"])"
   ]
  },
  {
   "cell_type": "code",
   "execution_count": 227,
   "metadata": {},
   "outputs": [
    {
     "data": {
      "text/html": [
       "<div>\n",
       "<style scoped>\n",
       "    .dataframe tbody tr th:only-of-type {\n",
       "        vertical-align: middle;\n",
       "    }\n",
       "\n",
       "    .dataframe tbody tr th {\n",
       "        vertical-align: top;\n",
       "    }\n",
       "\n",
       "    .dataframe thead th {\n",
       "        text-align: right;\n",
       "    }\n",
       "</style>\n",
       "<table border=\"1\" class=\"dataframe\">\n",
       "  <thead>\n",
       "    <tr style=\"text-align: right;\">\n",
       "      <th></th>\n",
       "      <th>lat</th>\n",
       "      <th>lon</th>\n",
       "      <th>route_num</th>\n",
       "    </tr>\n",
       "  </thead>\n",
       "  <tbody>\n",
       "    <tr>\n",
       "      <th>0</th>\n",
       "      <td>45.513014</td>\n",
       "      <td>-73.564228</td>\n",
       "      <td>0</td>\n",
       "    </tr>\n",
       "    <tr>\n",
       "      <th>1</th>\n",
       "      <td>45.513070</td>\n",
       "      <td>-73.564350</td>\n",
       "      <td>0</td>\n",
       "    </tr>\n",
       "    <tr>\n",
       "      <th>2</th>\n",
       "      <td>45.513285</td>\n",
       "      <td>-73.564816</td>\n",
       "      <td>0</td>\n",
       "    </tr>\n",
       "    <tr>\n",
       "      <th>3</th>\n",
       "      <td>45.513041</td>\n",
       "      <td>-73.565126</td>\n",
       "      <td>0</td>\n",
       "    </tr>\n",
       "    <tr>\n",
       "      <th>4</th>\n",
       "      <td>45.513196</td>\n",
       "      <td>-73.565467</td>\n",
       "      <td>0</td>\n",
       "    </tr>\n",
       "    <tr>\n",
       "      <th>...</th>\n",
       "      <td>...</td>\n",
       "      <td>...</td>\n",
       "      <td>...</td>\n",
       "    </tr>\n",
       "    <tr>\n",
       "      <th>3273</th>\n",
       "      <td>45.526454</td>\n",
       "      <td>-73.580674</td>\n",
       "      <td>99</td>\n",
       "    </tr>\n",
       "    <tr>\n",
       "      <th>3274</th>\n",
       "      <td>45.526646</td>\n",
       "      <td>-73.581095</td>\n",
       "      <td>99</td>\n",
       "    </tr>\n",
       "    <tr>\n",
       "      <th>3275</th>\n",
       "      <td>45.527109</td>\n",
       "      <td>-73.582112</td>\n",
       "      <td>99</td>\n",
       "    </tr>\n",
       "    <tr>\n",
       "      <th>3276</th>\n",
       "      <td>45.527276</td>\n",
       "      <td>-73.582480</td>\n",
       "      <td>99</td>\n",
       "    </tr>\n",
       "    <tr>\n",
       "      <th>3277</th>\n",
       "      <td>45.527443</td>\n",
       "      <td>-73.582846</td>\n",
       "      <td>99</td>\n",
       "    </tr>\n",
       "  </tbody>\n",
       "</table>\n",
       "<p>3278 rows × 3 columns</p>\n",
       "</div>"
      ],
      "text/plain": [
       "            lat        lon  route_num\n",
       "0     45.513014 -73.564228          0\n",
       "1     45.513070 -73.564350          0\n",
       "2     45.513285 -73.564816          0\n",
       "3     45.513041 -73.565126          0\n",
       "4     45.513196 -73.565467          0\n",
       "...         ...        ...        ...\n",
       "3273  45.526454 -73.580674         99\n",
       "3274  45.526646 -73.581095         99\n",
       "3275  45.527109 -73.582112         99\n",
       "3276  45.527276 -73.582480         99\n",
       "3277  45.527443 -73.582846         99\n",
       "\n",
       "[3278 rows x 3 columns]"
      ]
     },
     "execution_count": 227,
     "metadata": {},
     "output_type": "execute_result"
    }
   ],
   "source": [
    "df_sp_w"
   ]
  },
  {
   "cell_type": "code",
   "execution_count": null,
   "metadata": {},
   "outputs": [],
   "source": [
    "tab_routes_voxels_sp_w, tab_routes_voxels_sp_w_global, dict_voxels_sp_w = voxel.generate_voxels(\n",
    "    df_sp_w, df_sp_w.iloc[0][\"route_num\"], df_sp_w.iloc[-1][\"route_num\"])\n"
   ]
  }
 ],
 "metadata": {
  "kernelspec": {
   "display_name": "DRL-cycling",
   "language": "python",
   "name": "drl-cycling"
  },
  "language_info": {
   "codemirror_mode": {
    "name": "ipython",
    "version": 3
   },
   "file_extension": ".py",
   "mimetype": "text/x-python",
   "name": "python",
   "nbconvert_exporter": "python",
   "pygments_lexer": "ipython3",
   "version": "3.7.5"
  }
 },
 "nbformat": 4,
 "nbformat_minor": 2
}
