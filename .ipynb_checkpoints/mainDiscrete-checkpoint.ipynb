{
 "cells": [
  {
   "cell_type": "code",
   "execution_count": 2,
   "metadata": {},
   "outputs": [],
   "source": [
    "import pickle\n",
    "import networkx\n",
    "import random\n",
    "import networkx as nx\n",
    "\n",
    "project_folder = \"monresovelo\""
   ]
  },
  {
   "cell_type": "code",
   "execution_count": 25,
   "metadata": {},
   "outputs": [
    {
     "name": "stdout",
     "output_type": "stream",
     "text": [
      "6\n"
     ]
    }
   ],
   "source": [
    "G = nx.complete_graph(10)\n",
    "print(random.choice(list(G.nodes)))"
   ]
  },
  {
   "cell_type": "code",
   "execution_count": 27,
   "metadata": {},
   "outputs": [
    {
     "name": "stdout",
     "output_type": "stream",
     "text": [
      "[3, 0, 1, 2, 4, 5, 6, 7, 8, 9]\n",
      "[6, 0, 1, 2, 3, 4, 5, 8, 9, 7]\n",
      "[2, 0, 3, 4, 5, 6, 7, 8, 9, 1]\n",
      "[2, 0, 3, 4, 5, 6, 7, 8, 9, 1]\n",
      "[9, 0, 2, 3, 4, 5, 6, 7, 8, 1]\n",
      "[0, 1, 2, 3, 4, 5, 6, 7, 8, 9]\n",
      "[7, 0, 1, 2, 4, 5, 6, 8, 9, 3]\n",
      "[9, 0, 1, 2, 3, 4, 5, 7, 8, 6]\n",
      "[2, 0, 3, 4, 5, 6, 7, 8, 9, 1]\n",
      "[5, 0, 1, 2, 3, 6, 7, 8, 9, 4]\n"
     ]
    }
   ],
   "source": [
    "i=0\n",
    "\n",
    "while (i<10):\n",
    "    d_node = random.choice(list(G.nodes))\n",
    "    f_node = d_node\n",
    "    while(f_node == d_node):\n",
    "        f_node = random.choice(list(G.nodes))\n",
    "    ob = max(nx.all_simple_paths(G, d_node, f_node), key=lambda x: len(x))\n",
    "    if(ob not in list_ob):\n",
    "        list_ob.append(ob)\n",
    "        i+=1\n"
   ]
  },
  {
   "cell_type": "code",
   "execution_count": null,
   "metadata": {},
   "outputs": [],
   "source": []
  }
 ],
 "metadata": {
  "kernelspec": {
   "display_name": "Python 3",
   "language": "python",
   "name": "python3"
  },
  "language_info": {
   "codemirror_mode": {
    "name": "ipython",
    "version": 3
   },
   "file_extension": ".py",
   "mimetype": "text/x-python",
   "name": "python",
   "nbconvert_exporter": "python",
   "pygments_lexer": "ipython3",
   "version": "3.8.10"
  }
 },
 "nbformat": 4,
 "nbformat_minor": 2
}
